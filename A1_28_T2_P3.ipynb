{
 "cells": [
  {
   "cell_type": "code",
   "execution_count": 6,
   "metadata": {},
   "outputs": [
    {
     "name": "stdout",
     "output_type": "stream",
     "text": [
      "False\n",
      "True\n",
      "True\n"
     ]
    }
   ],
   "source": [
    "print((\"apple\",1,\"mango\")>(\"apple\",2,\"banana\"))\n",
    "print((\"apple\",\"mango\",1)>(\"apple\",\"banana\",2))\n",
    "print((\"apple\",\"mango\",1)>(\"apple\",\"banana\",\"pear\"))\n",
    "#print((7,\"apple\",1)>(\"apple\",\"banana\",2))\n"
   ]
  },
  {
   "cell_type": "code",
   "execution_count": 4,
   "metadata": {},
   "outputs": [
    {
     "name": "stdout",
     "output_type": "stream",
     "text": [
      "8\n",
      "1\n",
      "11\n",
      "[1, 3, 4, 5, 7, 8, 10, 11]\n",
      "49\n",
      "4\n",
      "Banana\n",
      "banana\n",
      "['Banana', 'Mango', 'apple', 'banana']\n",
      "['Banana', 'Mango', 'apple', 'banana']\n",
      "['banana', 'Banana', 'Mango', 'apple']\n",
      "['apple', 'Mango', 'banana', 'Banana']\n",
      "((0, 1), (1, 3), (2, 5), (3, 7))\n",
      "<class 'enumerate'>\n",
      "<enumerate object at 0x0000012E6D164580>\n",
      "0 1\n",
      "1 3\n",
      "2 5\n",
      "3 7\n",
      "((2, 5), (1, 6), (4, 7), (3, 8))\n",
      "<class 'zip'>\n",
      "<zip object at 0x0000012E6D1B5E80>\n",
      "2 5\n",
      "1 6\n",
      "4 7\n",
      "3 8\n",
      "Enter tuple: (1,2,3)\n",
      "<class 'tuple'>\n"
     ]
    }
   ],
   "source": [
    "t=(1,4,7,8,10,11,5,3)\n",
    "print(len(t))\n",
    "print(min(t))\n",
    "print(max(t))\n",
    "print(sorted(t))\n",
    "print(sum(t))\n",
    "\n",
    "t1=(\"apple\",\"banana\",\"Mango\",\"Banana\")\n",
    "print(len(t1))\n",
    "print(min(t1))\n",
    "print(max(t1))\n",
    "print(sorted(t1))\n",
    "#print(sum(t1))\n",
    "\n",
    "print(sorted(t1,key=min))\n",
    "print(sorted(t1,key=max))\n",
    "print(sorted(t1,key=len))\n",
    "\n",
    "t2=(1,3,5,7)\n",
    "print(tuple(enumerate(t2)))\n",
    "print(type(enumerate(t2)))\n",
    "print(enumerate(t2))\n",
    "for i,j in enumerate(t2):\n",
    "    print(i,j)\n",
    "    \n",
    "t1=(2,1,4,3)\n",
    "t2=(5,6,7,8)\n",
    "print(tuple(zip(t1,t2)))\n",
    "print(type(zip(t1,t2)))\n",
    "print(zip(t1,t2))\n",
    "for i,j in zip(t1,t2):\n",
    "    print(i,j)\n",
    "    \n",
    "t=eval(input(\"Enter tuple: \"))   \n",
    "print(type(t))"
   ]
  },
  {
   "cell_type": "code",
   "execution_count": 26,
   "metadata": {},
   "outputs": [
    {
     "name": "stdout",
     "output_type": "stream",
     "text": [
      "(2, 3, 4, 5)\n",
      "()\n",
      "()\n",
      "(1, 2, 3, 4, 5)\n",
      "(5, 4, 3, 2, 1)\n",
      "()\n",
      "(9, 8, 7, 6, 5)\n",
      "(10, 8)\n",
      "(6, 4, 2)\n",
      "(5, 6)\n"
     ]
    }
   ],
   "source": [
    "t=(1,2,3,4,5,6,7,8,9,10)\n",
    "print(t[1:5])\n",
    "print(t[-1:-5])\n",
    "print(t[2:2])\n",
    "print(t[:-5:1])\n",
    "print(t[4::-1])\n",
    "print(t[-2:-7:1])\n",
    "print(t[-2:-7:-1])\n",
    "print(t[:-5:-2])\n",
    "print(t[-5::-2])\n",
    "print(t[4:-4:])"
   ]
  },
  {
   "cell_type": "code",
   "execution_count": 30,
   "metadata": {},
   "outputs": [
    {
     "name": "stdout",
     "output_type": "stream",
     "text": [
      "(1, 2, 3, 4, 11, 22, 33, 44)\n",
      "(1, 2, 3, 4, 1, 2, 3, 4, 1, 2, 3, 4, 1, 2, 3, 4)\n"
     ]
    }
   ],
   "source": [
    "t1=(1,2,3,4)\n",
    "t2=(11,22,33,44)\n",
    "print(t1+t2)\n",
    "print(t1*len(t2))"
   ]
  },
  {
   "cell_type": "code",
   "execution_count": 35,
   "metadata": {},
   "outputs": [
    {
     "name": "stdout",
     "output_type": "stream",
     "text": [
      "12\n",
      "1\n",
      "5\n",
      "2\n"
     ]
    }
   ],
   "source": [
    "t=(1,2,1,2,1,2,1,2,1,2,1,2,1,2,1,2,1,2,1,2,1,2,1,2)\n",
    "t1=(1,2,2,2,2,2,1)\n",
    "print(t.count(2))\n",
    "print(t.index(2))\n",
    "print(t.index(2,5,10))\n",
    "print(t1.index(2,2,5))"
   ]
  },
  {
   "cell_type": "code",
   "execution_count": 16,
   "metadata": {},
   "outputs": [
    {
     "name": "stdout",
     "output_type": "stream",
     "text": [
      "('h', 'e', 'l', 'l', 'o')\n",
      "(2, 3, 4)\n"
     ]
    }
   ],
   "source": [
    "print(tuple(\"hello\"))\n",
    "print(tuple(range(2,5)))"
   ]
  },
  {
   "cell_type": "code",
   "execution_count": 19,
   "metadata": {},
   "outputs": [
    {
     "name": "stdout",
     "output_type": "stream",
     "text": [
      "Enter the tuple : (1,2,4,6,0,3,4,-3,-2)\n",
      "min even : -2, min odd : -3, max even : 6, max odd : 3\n"
     ]
    }
   ],
   "source": [
    "# WRP to find max even, min odd, max odd, min even value from the tuple of numbers entered by user\n",
    "\n",
    "t = sorted(eval(input(\"Enter the tuple : \")))\n",
    "tminodd = None\n",
    "tmineven = None\n",
    "tmaxodd = None\n",
    "tmaxeven = None\n",
    "\n",
    "for i in range(len(t)):\n",
    "    if t[i]%2==0:\n",
    "        if tmineven!=None:\n",
    "            continue\n",
    "        tmineven = t[i]\n",
    "    elif t[i]%2!=0:\n",
    "        if tminodd!=None:\n",
    "            continue\n",
    "        tminodd = t[i]    \n",
    "        \n",
    "for i in range(len(t)-1,0,-1):\n",
    "    if t[i]%2==0:\n",
    "        if tmaxeven!=None:\n",
    "            continue\n",
    "        tmaxeven = t[i]\n",
    "    elif t[i]%2!=0:\n",
    "        if tmaxodd!=None:\n",
    "            continue\n",
    "        tmaxodd = t[i]    \n",
    "                \n",
    "        \n",
    "print(f\"min even : {tmineven}, min odd : {tminodd}, max even : {tmaxeven}, max odd : {tmaxodd}\") "
   ]
  },
  {
   "cell_type": "code",
   "execution_count": 29,
   "metadata": {},
   "outputs": [
    {
     "name": "stdout",
     "output_type": "stream",
     "text": [
      "[1, 2, 3, 4, 5]\n",
      "[1, 3, 5, 7]\n",
      "[1, 10, 5, 7]\n",
      "[1, 10, 3, 4, 5]\n",
      "[1, 10, 3, 4, 5]\n",
      "[10, 10, 30, 40, 50]\n",
      "[10, 20, 30, 40, 50]\n",
      "2064950614528 140713249285952\n",
      "2064950614528 140713249286208\n",
      "[1, 'hello', 5, 6, (1, 4), 3, [2, 3]]\n",
      "[1, 'hello', 5, 6, (1, 4), 3, [10, 3]]\n",
      "(1, 'hello', 5, 6, (1, 4), 3, [2, 3])\n",
      "(1, 'hello', 5, 6, (1, 4), 3, [10, 3])\n"
     ]
    }
   ],
   "source": [
    "l=[1,2,3,4,5]\n",
    "print(l)\n",
    "l=list(range(1,9,2))\n",
    "print(l)\n",
    "l[1]=10\n",
    "print(l)\n",
    "\n",
    "l=[1,2,3,4,5]\n",
    "l1=l\n",
    "l1[1]=10\n",
    "print(l1)\n",
    "print(l)\n",
    "\n",
    "l=[10,20,30,40,50]\n",
    "l1=l.copy()\n",
    "l1[1]=10\n",
    "print(l1)\n",
    "print(l)\n",
    "\n",
    "l=[1,2,3,4]\n",
    "print(id(l),id(l[1]))\n",
    "l[1]=10\n",
    "print(id(l),id(l[1]))\n",
    "\n",
    "l=[1,\"hello\",5,6,(1,4),3,[2,3]]\n",
    "print(l)\n",
    "l[-1][0]=10\n",
    "print(l)\n",
    "# l[-3][0]=30\n",
    "# print(l)\n",
    "\n",
    "t=(1,\"hello\",5,6,(1,4),3,[2,3])\n",
    "print(t)\n",
    "t[-1][0]=10\n",
    "print(t)"
   ]
  },
  {
   "cell_type": "code",
   "execution_count": 41,
   "metadata": {},
   "outputs": [
    {
     "name": "stdout",
     "output_type": "stream",
     "text": [
      "[1, 2, 3, 4]\n",
      "[1, 2, 3, 4, '5', 6]\n",
      "[1, 2, 3, 4, '5', 6, [7, 8, 9]]\n",
      "[1, 2, 3, 4, '5', 6, [7, 8, 9], '10', '11', '12']\n",
      "[1, 2, 3, 4, '5', 6, [7, 8, 9], '10', '11', '12', 13, 14, 15]\n",
      "[1, 2, 3, 4, '5', 6, [7, 8, 9], '10', '11', '12', 13, 14, 15]\n",
      "[1, 2, 3, 4, '5', 6, [7, 8, 9], '10', '11', '12', 13, 14, 15, [16, 17, 18, 19]]\n"
     ]
    }
   ],
   "source": [
    "l=[1,2,3,4]\n",
    "print(l)\n",
    "l.append(\"5\")\n",
    "l.append(6)\n",
    "print(l)\n",
    "l.append([7,8,9])\n",
    "print(l)\n",
    "\n",
    "l.extend((\"10\",\"11\",\"12\"))\n",
    "print(l)\n",
    "l.extend([13,14,15])\n",
    "print(l)\n",
    "\n",
    "l1=[16,17,18,19]\n",
    "print(l)\n",
    "l.insert(14,l1)\n",
    "print(l)"
   ]
  }
 ],
 "metadata": {
  "kernelspec": {
   "display_name": "Python 3",
   "language": "python",
   "name": "python3"
  },
  "language_info": {
   "codemirror_mode": {
    "name": "ipython",
    "version": 3
   },
   "file_extension": ".py",
   "mimetype": "text/x-python",
   "name": "python",
   "nbconvert_exporter": "python",
   "pygments_lexer": "ipython3",
   "version": "3.8.5"
  }
 },
 "nbformat": 4,
 "nbformat_minor": 4
}
