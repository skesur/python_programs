{
 "cells": [
  {
   "cell_type": "code",
   "execution_count": 7,
   "metadata": {},
   "outputs": [
    {
     "name": "stdout",
     "output_type": "stream",
     "text": [
      "Enter score of subject_no 1 between 0 to 100:9\n",
      "Enter score of subject_no 2 between 0 to 100:8\n",
      "Enter score of subject_no 3 between 0 to 100:8\n",
      "Enter score of subject_no 4 between 0 to 100:8\n",
      "Enter score of subject_no 5 between 0 to 100:8\n",
      "Enter score of subject_no 6 between 0 to 100:8\n",
      "Enter score of subject_no 7 between 0 to 100:8\n",
      "Enter score of subject_no 8 between 0 to 100:8\n",
      "Enter score of subject_no 9 between 0 to 100:8\n",
      "Enter score of subject_no 10 between 0 to 100:9\n",
      "\n",
      "Second max score : 8\n",
      "Second min score : 9\n"
     ]
    }
   ],
   "source": [
    "sum=0\n",
    "count=0\n",
    "max=-1\n",
    "min=101\n",
    "second_max=0\n",
    "second_min=0\n",
    "while count<10:\n",
    "    n=int(input(f\"Enter score of subject_no {count+1} between 0 to 100:\"))\n",
    "    if n<0 or n>100:\n",
    "        print(\"Enter valid score\")\n",
    "        continue\n",
    "    count+=1\n",
    "    sum+=n\n",
    "    if n>max:\n",
    "        second_max=max\n",
    "        max=n\n",
    "    elif n>second_max and n!=max:\n",
    "        second_max=n\n",
    "    if n<min:\n",
    "        second_min=min\n",
    "        min=n\n",
    "    elif n<second_min and n!=min:\n",
    "        second_min=n\n",
    "print()        \n",
    "print(f\"Second max score : {second_max}\")\n",
    "print(f\"Second min score : {second_min}\")"
   ]
  },
  {
   "cell_type": "code",
   "execution_count": 11,
   "metadata": {},
   "outputs": [
    {
     "name": "stdout",
     "output_type": "stream",
     "text": [
      "* \n",
      "* * \n",
      "* * * \n",
      "* * * * \n"
     ]
    }
   ],
   "source": [
    "for i in range(4):\n",
    "    for j in range(i+1):\n",
    "        print(\"*\",end=\" \")\n",
    "    print()\n",
    "    "
   ]
  },
  {
   "cell_type": "code",
   "execution_count": 12,
   "metadata": {},
   "outputs": [
    {
     "name": "stdout",
     "output_type": "stream",
     "text": [
      "* * * * \n",
      "* * * \n",
      "* * \n",
      "* \n"
     ]
    }
   ],
   "source": [
    "for i in range(4):\n",
    "    for j in range(4-i):\n",
    "        print(\"*\",end=\" \")\n",
    "    print()    "
   ]
  },
  {
   "cell_type": "code",
   "execution_count": 14,
   "metadata": {},
   "outputs": [
    {
     "name": "stdout",
     "output_type": "stream",
     "text": [
      "      * \n",
      "    * * \n",
      "  * * * \n",
      "* * * * \n"
     ]
    }
   ],
   "source": [
    "for i in range(4):\n",
    "    for k in range(2*(3-i)):\n",
    "        print(end=\" \")\n",
    "    for j in range(i+1):\n",
    "        print(\"*\",end=\" \")\n",
    "    print()\n",
    "    "
   ]
  },
  {
   "cell_type": "code",
   "execution_count": 16,
   "metadata": {},
   "outputs": [
    {
     "name": "stdout",
     "output_type": "stream",
     "text": [
      "* * * * \n",
      "  * * * \n",
      "    * * \n",
      "      * \n"
     ]
    }
   ],
   "source": [
    "for i in range(4):\n",
    "    for k in range(2*i):\n",
    "        print(end=\" \")\n",
    "    for j in range(4-i):\n",
    "        print(\"*\",end=\" \")\n",
    "    print() "
   ]
  },
  {
   "cell_type": "code",
   "execution_count": 17,
   "metadata": {},
   "outputs": [
    {
     "name": "stdout",
     "output_type": "stream",
     "text": [
      "   * \n",
      "  * * \n",
      " * * * \n",
      "* * * * \n"
     ]
    }
   ],
   "source": [
    "for i in range(4):\n",
    "    for k in range(3-i):\n",
    "        print(end=\" \")\n",
    "    for j in range(i+1):\n",
    "        print(\"*\",end=\" \")\n",
    "    print()"
   ]
  },
  {
   "cell_type": "code",
   "execution_count": 18,
   "metadata": {},
   "outputs": [
    {
     "name": "stdout",
     "output_type": "stream",
     "text": [
      "* * * * \n",
      " * * * \n",
      "  * * \n",
      "   * \n"
     ]
    }
   ],
   "source": [
    "for i in range(4):\n",
    "    for k in range(i):\n",
    "        print(end=\" \")\n",
    "    for j in range(4-i):\n",
    "        print(\"*\",end=\" \")\n",
    "    print() "
   ]
  },
  {
   "cell_type": "code",
   "execution_count": 24,
   "metadata": {},
   "outputs": [
    {
     "name": "stdout",
     "output_type": "stream",
     "text": [
      "   * \n",
      "  * * \n",
      " * * * \n",
      "* * * * \n",
      " * * * \n",
      "  * * \n",
      "   * \n",
      "    \n"
     ]
    }
   ],
   "source": [
    "for i in range(4):\n",
    "    for k in range(3-i):\n",
    "        print(end=\" \")\n",
    "    for j in range(i+1):\n",
    "        print(\"*\",end=\" \")\n",
    "    print()\n",
    "for i in range(4):\n",
    "    for k in range(i):\n",
    "        print(end=\" \")\n",
    "    print(end=\" \")    \n",
    "    for j in range(3-i):\n",
    "        print(\"*\",end=\" \")\n",
    "    print()     "
   ]
  },
  {
   "cell_type": "code",
   "execution_count": 26,
   "metadata": {},
   "outputs": [
    {
     "name": "stdout",
     "output_type": "stream",
     "text": [
      "      * \n",
      "    * * \n",
      "  * * * \n",
      "* * * * \n",
      "  * * * \n",
      "    * * \n",
      "      * \n",
      "        \n"
     ]
    }
   ],
   "source": [
    "for i in range(4):\n",
    "    for k in range(2*(3-i)):\n",
    "        print(end=\" \")\n",
    "    for j in range(i+1):\n",
    "        print(\"*\",end=\" \")\n",
    "    print()\n",
    "for i in range(4):\n",
    "    print(end=\" \")\n",
    "    for k in range(2*i):\n",
    "        print(end=\" \")\n",
    "    print(end=\" \")    \n",
    "    for j in range(3-i):\n",
    "        print(\"*\",end=\" \")\n",
    "    print()"
   ]
  },
  {
   "cell_type": "code",
   "execution_count": 27,
   "metadata": {},
   "outputs": [
    {
     "name": "stdout",
     "output_type": "stream",
     "text": [
      "* \n",
      "* * \n",
      "* * * \n",
      "* * * * \n",
      "* * * \n",
      "* * \n",
      "* \n",
      "\n"
     ]
    }
   ],
   "source": [
    "for i in range(4):\n",
    "    for j in range(i+1):\n",
    "        print(\"*\",end=\" \")\n",
    "    print()\n",
    "for i in range(4):\n",
    "    for j in range(3-i):\n",
    "        print(\"*\",end=\" \")\n",
    "    print()    "
   ]
  },
  {
   "cell_type": "code",
   "execution_count": 69,
   "metadata": {},
   "outputs": [
    {
     "name": "stdout",
     "output_type": "stream",
     "text": [
      "* * * * * * * * * * * * * * \n",
      "* * * * * *     * * * * * * \n",
      "* * * * *         * * * * * \n",
      "* * * *             * * * * \n",
      "* * *                 * * * \n",
      "* *                     * * \n",
      "*                         * \n",
      "                            \n",
      "*                         * \n",
      "* *                     * * \n",
      "* * *                 * * * \n",
      "* * * *             * * * * \n",
      "* * * * *         * * * * * \n",
      "* * * * * *     * * * * * * \n",
      "* * * * * * * * * * * * * * \n"
     ]
    }
   ],
   "source": [
    "for i in range(8):\n",
    "    for j in range(7-i):\n",
    "        print(\"*\",end=\" \")\n",
    "    for k in range(i):\n",
    "        print(end=\" \")\n",
    "    for k in range(3*i):\n",
    "        print(end=\" \")     \n",
    "    for j in range(7-i):\n",
    "        print(\"*\",end=\" \")   \n",
    "    print()\n",
    "for i in range(7):\n",
    "    for j in range(i+1):\n",
    "        print(\"*\",end=\" \")\n",
    "    for j in range(6-i):\n",
    "        print(\" \",end=\" \")\n",
    "    for j in range(6-i):\n",
    "        print(\" \",end=\" \")\n",
    "    for j in range(i+1):\n",
    "        print(\"*\",end=\" \")    \n",
    "    print()\n",
    "        "
   ]
  },
  {
   "cell_type": "code",
   "execution_count": 4,
   "metadata": {},
   "outputs": [
    {
     "name": "stdout",
     "output_type": "stream",
     "text": [
      "1 2 3 4 5 6 \n",
      " 2 3 4 5 6 \n",
      "  3 4 5 6 \n",
      "   4 5 6 \n",
      "    5 6 \n",
      "     6 \n",
      "    6 5 \n",
      "   6 5 4 \n",
      "  6 5 4 3 \n",
      " 6 5 4 3 2 \n",
      "6 5 4 3 2 1 \n"
     ]
    }
   ],
   "source": [
    "n = 0\n",
    "for i in range(6):\n",
    "    n = i+1\n",
    "    for k in range(i):\n",
    "        print(end=\" \")\n",
    "    for j in range(6-i):\n",
    "        print(n,end=\" \")\n",
    "        n+=1\n",
    "    print()     \n",
    "for i in range(6):\n",
    "    n1 = 6\n",
    "    if i==0 :\n",
    "        continue\n",
    "    for k in range(5-i):\n",
    "        print(end=\" \")\n",
    "    for j in range(i+1):\n",
    "        print(n1,end=\" \")\n",
    "        n1-=1\n",
    "    print()    "
   ]
  }
 ],
 "metadata": {
  "kernelspec": {
   "display_name": "Python 3",
   "language": "python",
   "name": "python3"
  },
  "language_info": {
   "codemirror_mode": {
    "name": "ipython",
    "version": 3
   },
   "file_extension": ".py",
   "mimetype": "text/x-python",
   "name": "python",
   "nbconvert_exporter": "python",
   "pygments_lexer": "ipython3",
   "version": "3.8.5"
  }
 },
 "nbformat": 4,
 "nbformat_minor": 4
}
