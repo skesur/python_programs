{
 "cells": [
  {
   "cell_type": "code",
   "execution_count": 3,
   "metadata": {},
   "outputs": [
    {
     "name": "stdout",
     "output_type": "stream",
     "text": [
      "1682787682416\n",
      "1682856831216\n"
     ]
    }
   ],
   "source": [
    "s = \"h\"\n",
    "print(id(s))\n",
    "s = s+\"w\"\n",
    "print(id(s))"
   ]
  },
  {
   "cell_type": "code",
   "execution_count": 38,
   "metadata": {
    "scrolled": true
   },
   "outputs": [
    {
     "name": "stdout",
     "output_type": "stream",
     "text": [
      "p 1682787682032\n",
      "y 1682787682480\n",
      "t 1682787661232\n",
      "h 1682787682416\n",
      "o 1682787663088\n",
      "n 1682787682352\n",
      "y n t o\n"
     ]
    }
   ],
   "source": [
    "s=\"python\"\n",
    "for i in s:\n",
    "    print(i, id(i))\n",
    "    \n",
    "    \n",
    "print(s[1], s[-1], s[2],s[-2])\n",
    "#print(s[10])\n",
    "\n",
    "\n",
    "#s[2]=\"x\"\n",
    "#print(s)"
   ]
  },
  {
   "cell_type": "code",
   "execution_count": 37,
   "metadata": {},
   "outputs": [
    {
     "name": "stdout",
     "output_type": "stream",
     "text": [
      "his\n",
      "hs\n",
      "This\n",
      "his is python\n",
      "This is python\n",
      "This is pyth\n",
      "nohtyp si sihT\n",
      "This\n",
      "his is python\n",
      "\n",
      "This is python\n",
      "\n",
      "\n",
      "ihT\n"
     ]
    }
   ],
   "source": [
    "s = \"This is python\"\n",
    "\n",
    "print(s[1:4])\n",
    "print(s[1:4:2])\n",
    "print(s[:4])\n",
    "print(s[1:])\n",
    "print(s[:])\n",
    "print(s[:-2])\n",
    "print(s[::-1])\n",
    "print(s[:4:])\n",
    "print(s[1::])\n",
    "print(s[40:41])\n",
    "print(s[::])\n",
    "print(s[40:41:-4])\n",
    "print(s[-1:-5])\n",
    "print(s[2::-1])"
   ]
  },
  {
   "cell_type": "code",
   "execution_count": 45,
   "metadata": {},
   "outputs": [
    {
     "name": "stdout",
     "output_type": "stream",
     "text": [
      "[' ', ' ', 'T', 'h', 'h', 'i', 'i', 'n', 'o', 'p', 's', 's', 't', 'y']\n",
      "['y', 't', 's', 's', 'p', 'o', 'n', 'i', 'i', 'h', 'h', 'T', ' ', ' ']\n",
      "14\n",
      " \n",
      "y\n",
      "True\n"
     ]
    }
   ],
   "source": [
    "s = \"This is pyhton\"\n",
    "print(sorted(s))\n",
    "print(sorted(s,reverse=True))\n",
    "print(len(s))\n",
    "print(min(s))\n",
    "print(max(s))"
   ]
  },
  {
   "cell_type": "code",
   "execution_count": 99,
   "metadata": {},
   "outputs": [
    {
     "name": "stdout",
     "output_type": "stream",
     "text": [
      "this is python\n",
      "THIS IS PYTHON\n",
      "This is python\n",
      "This Is Python\n",
      "tHIS IS PYTHON\n",
      "2\n",
      "1\n",
      "2\n",
      "-1\n",
      "2\n",
      "5\n",
      "2\n",
      "5\n",
      "True\n",
      "False\n",
      "True\n",
      "True\n",
      "False\n",
      "True\n",
      "False\n",
      "True\n",
      "False\n",
      "True\n",
      "False\n",
      "True\n",
      "False\n",
      "True\n",
      "False\n",
      "True\n",
      "False\n",
      "False\n",
      "False\n",
      "True\n"
     ]
    }
   ],
   "source": [
    "s = \"This is python\"\n",
    "n = \"abc123\"\n",
    "a = \"abc\"\n",
    "l = \"abcd\"\n",
    "u = \"ABCD\"\n",
    "d = \"123\"\n",
    "c = \"   \"\n",
    "t = \"itle\"\n",
    "i = \"abc_123\"\n",
    "print(s.lower())\n",
    "print(s.upper())\n",
    "print(s.capitalize())\n",
    "print(s.title())\n",
    "print(s.swapcase())\n",
    "print(s.count('i'))\n",
    "print(s.count('i', 3, len(s)))\n",
    "print(s.count('is', 2, 10))\n",
    "print(s.find(\"m\"))\n",
    "print(s.find(\"is\",2,21))\n",
    "print(s.rfind(\"is\"))\n",
    "print(s.index('i'))\n",
    "#print(s.index('z'))\n",
    "print(s.rindex('i'))\n",
    "print(s.startswith(\"Th\"))\n",
    "print(s.startswith(\"py\"))\n",
    "print(s.endswith(\"on\"))\n",
    "print(s.endswith(\"python\"))\n",
    "print(s.isalnum())\n",
    "print(n.isalnum())\n",
    "print(s.isalpha())\n",
    "print(a.isalpha())\n",
    "print(s.islower())\n",
    "print(l.islower())\n",
    "print(s.isupper())\n",
    "print(u.isupper())\n",
    "print(s.isdigit())\n",
    "print(d.isdigit())\n",
    "print(s.isspace())\n",
    "print(c.isspace())\n",
    "print(t.istitle())\n",
    "print(s.istitle())\n",
    "print(s.isidentifier())\n",
    "print(i.isidentifier())"
   ]
  },
  {
   "cell_type": "code",
   "execution_count": 110,
   "metadata": {},
   "outputs": [
    {
     "name": "stdout",
     "output_type": "stream",
     "text": [
      "Enter the string : 123\n",
      "Enter the string : 123\n",
      "Both string are balanced!\n"
     ]
    }
   ],
   "source": [
    "# if two strings entered by user are balanced or not\n",
    "# example s1 and s2 are balanced if all the characters of s1 are present in s2 the position of character does not matter\n",
    "\n",
    "s1 = input(\"Enter the string : \")\n",
    "s2 = input(\"Enter the string : \")\n",
    "b = True\n",
    "if len(s1)==len(s2):\n",
    "    for i in range(len(s2)):\n",
    "        if s1.find(str(s2[i]))==(-1):\n",
    "            b = False\n",
    "            print(\"Both string are not balanced!\")\n",
    "            break\n",
    "            \n",
    "if b and len(s1)==len(s2):\n",
    "    print(\"Both string are balanced!\")\n",
    "else:\n",
    "    print(\"Both string are not balanced!\")"
   ]
  }
 ],
 "metadata": {
  "kernelspec": {
   "display_name": "Python 3",
   "language": "python",
   "name": "python3"
  },
  "language_info": {
   "codemirror_mode": {
    "name": "ipython",
    "version": 3
   },
   "file_extension": ".py",
   "mimetype": "text/x-python",
   "name": "python",
   "nbconvert_exporter": "python",
   "pygments_lexer": "ipython3",
   "version": "3.8.5"
  }
 },
 "nbformat": 4,
 "nbformat_minor": 4
}
