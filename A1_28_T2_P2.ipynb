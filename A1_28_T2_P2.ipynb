{
 "cells": [
  {
   "cell_type": "code",
   "execution_count": 4,
   "metadata": {},
   "outputs": [
    {
     "name": "stdout",
     "output_type": "stream",
     "text": [
      "['This', 'is', 'python']\n",
      "['Th', 's ', 's python']\n",
      "['Th', ' ', ' python']\n"
     ]
    }
   ],
   "source": [
    "s=\"This is python\"\n",
    "print(s.split())\n",
    "print(s.split('i'))\n",
    "print(s.split('is'))"
   ]
  },
  {
   "cell_type": "code",
   "execution_count": 27,
   "metadata": {},
   "outputs": [
    {
     "name": "stdout",
     "output_type": "stream",
     "text": [
      "1<2<3<4\n",
      "PHelloyHellotHellohHellooHellon\n",
      "b c a\n"
     ]
    }
   ],
   "source": [
    "s1=\"<\"\n",
    "s2=\"1234\"\n",
    "print(s1.join(s2))\n",
    "print(\"Hello\".join(\"Python\"))"
   ]
  },
  {
   "cell_type": "code",
   "execution_count": 49,
   "metadata": {},
   "outputs": [
    {
     "name": "stdout",
     "output_type": "stream",
     "text": [
      "This is python\n",
      "is is python\n",
      "This is py\n",
      "is is pyt\n",
      "This is pythonth\n",
      "Th!$ !$ python\n",
      "Th!@#$ !@#$ python\n",
      "This is java\n",
      "{104: 35, 105: 33, 115: 36}\n",
      " T#!$ !$ pyt#on \n"
     ]
    }
   ],
   "source": [
    "s=\" This is python \"\n",
    "print(s.strip())\n",
    "s1=\"This is python\"\n",
    "print(s1.strip(\"Th\"))\n",
    "print(s1.strip(\"thon\"))\n",
    "print(s1.strip(\"nToh\"))\n",
    "s2=\"This is pythonthononononono\"\n",
    "print(s2.strip(\"on\"))\n",
    "s3=\"This is python\"\n",
    "print(s3.replace(\"is\",\"!$\"))\n",
    "print(s3.replace(\"is\",\"!@#$\"))\n",
    "print(s3.replace(\"python\",\"java\"))"
   ]
  },
  {
   "cell_type": "code",
   "execution_count": 53,
   "metadata": {},
   "outputs": [
    {
     "name": "stdout",
     "output_type": "stream",
     "text": [
      "{104: 35, 105: 33, 115: 36}\n",
      "HI?, weat#er !$ [&]a!ny\n",
      "!\"#$%&'()*+,-./:;<=>?@[\\]^_`{|}~\n",
      "{33: None, 34: None, 35: None, 36: None, 37: None, 38: None, 39: None, 40: None, 41: None, 42: None, 43: None, 44: None, 45: None, 46: None, 47: None, 58: None, 59: None, 60: None, 61: None, 62: None, 63: None, 64: None, 91: None, 92: None, 93: None, 94: None, 95: None, 96: None, 123: None, 124: None, 125: None, 126: None}\n",
      "HI weather  any\n"
     ]
    }
   ],
   "source": [
    "import string\n",
    "\n",
    "s4=\"This is python\"\n",
    "new=s.maketrans(\"his\",\"#!$\")\n",
    "print(new)\n",
    "tran=s.translate(new)\n",
    "print(tran)\n",
    "print(string.punctuation)\n",
    "s=\"HI?, weather !$ [&]a!ny\"\n",
    "new=s.maketrans(\"\",\"\",string.punctuation)\n",
    "print(new)\n",
    "print(s.translate(new))"
   ]
  },
  {
   "cell_type": "code",
   "execution_count": 114,
   "metadata": {},
   "outputs": [
    {
     "name": "stdout",
     "output_type": "stream",
     "text": [
      "Enter the string : This is Python\n",
      "Enter the no. of shift : 2\n",
      "This is Ceaser Cipher Cryptography of given string : Vjku ku Ravjqp\n"
     ]
    }
   ],
   "source": [
    "# Implement Ceaser Cipher Cryptography\n",
    "import string\n",
    "\n",
    "s = input(\"Enter the string : \")\n",
    "n = int(input(\"Enter the no. of shift : \"))\n",
    "s1 = \"\"\n",
    "\n",
    "for i in s:\n",
    "    if i in string.punctuation or i==\" \":\n",
    "        s1 = s1 + i\n",
    "        continue\n",
    "    else:\n",
    "        z = ch\n",
    "        ch = ord(i)\n",
    "        ch = ch+n\n",
    "        if (chr(z).islower==False or chr(ch) in string.punctuation) and ch>122:\n",
    "            j = ch-122\n",
    "            ch = 97+j-1\n",
    "        elif (chr(z).isupper==False or chr(ch) in string.punctuation) and ch>90:\n",
    "            j = ch-90\n",
    "            ch = 65+j-1\n",
    "        s1 = s1+chr(ch)\n",
    "        \n",
    "print(f\"This is Ceaser Cipher Cryptography of given string : {s1}\")        "
   ]
  },
  {
   "cell_type": "code",
   "execution_count": 133,
   "metadata": {},
   "outputs": [
    {
     "name": "stdout",
     "output_type": "stream",
     "text": [
      "('Hello',)\n",
      "(1, 2, 'Abcde', True, 9, {1, 2, 3}, 'b')\n",
      "2\n",
      "b\n",
      "('H', 'e', 'l', 'o', 'o')\n",
      "(1, 2, 3, 'abc')\n",
      "False\n",
      "False\n"
     ]
    }
   ],
   "source": [
    "s=('Hello',)\n",
    "print(s)\n",
    "t=(1,2,'Abcde',True,9,{1,2,3},'b')\n",
    "print(t)\n",
    "print(t[1])\n",
    "#print(t[1][0])\n",
    "print(t[2][1:2])\n",
    "t1=tuple(\"Heloo\")\n",
    "print(t1)\n",
    "t2=tuple([1,2,3,'abc'])\n",
    "print(t2)\n",
    "print((1,2,3)==(3,2,1))\n",
    "print((\"apple\",\"banana\",\"mango\")==(\"apple\",\"mango\",\"banana\"))"
   ]
  },
  {
   "cell_type": "code",
   "execution_count": 135,
   "metadata": {},
   "outputs": [],
   "source": [
    "# t=(1,2,3,4)\n",
    "# t[1]=10 #Error\n",
    "# print(t)"
   ]
  },
  {
   "cell_type": "code",
   "execution_count": 136,
   "metadata": {},
   "outputs": [
    {
     "data": {
      "text/plain": [
       "'C:\\\\Users\\\\LJENG\\\\A1_28'"
      ]
     },
     "execution_count": 136,
     "metadata": {},
     "output_type": "execute_result"
    }
   ],
   "source": [
    "pwd"
   ]
  }
 ],
 "metadata": {
  "kernelspec": {
   "display_name": "Python 3",
   "language": "python",
   "name": "python3"
  },
  "language_info": {
   "codemirror_mode": {
    "name": "ipython",
    "version": 3
   },
   "file_extension": ".py",
   "mimetype": "text/x-python",
   "name": "python",
   "nbconvert_exporter": "python",
   "pygments_lexer": "ipython3",
   "version": "3.8.5"
  }
 },
 "nbformat": 4,
 "nbformat_minor": 4
}
