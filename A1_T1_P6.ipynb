{
 "cells": [
  {
   "cell_type": "code",
   "execution_count": 1,
   "metadata": {},
   "outputs": [
    {
     "name": "stdout",
     "output_type": "stream",
     "text": [
      "2\n"
     ]
    }
   ],
   "source": [
    "def f():\n",
    "    print(1)\n",
    "def f():\n",
    "    print(2)\n",
    "f()    "
   ]
  },
  {
   "cell_type": "code",
   "execution_count": 2,
   "metadata": {},
   "outputs": [
    {
     "name": "stdout",
     "output_type": "stream",
     "text": [
      "18\n"
     ]
    }
   ],
   "source": [
    "x=0\n",
    "while x<15:\n",
    "    if x%3==0:\n",
    "        x+=5\n",
    "        continue\n",
    "    if x%2==0:\n",
    "        x+=14\n",
    "    else:\n",
    "        x+=1\n",
    "else:\n",
    "    x+=1\n",
    "print(x)"
   ]
  },
  {
   "cell_type": "code",
   "execution_count": 3,
   "metadata": {},
   "outputs": [
    {
     "name": "stdout",
     "output_type": "stream",
     "text": [
      "count is 1\n",
      " i is 6\n"
     ]
    }
   ],
   "source": [
    "for i in range(1,5):\n",
    "    if i%2==0:\n",
    "        count=i\n",
    "    elif i%3==0:\n",
    "        count+=5\n",
    "    count=1\n",
    "    if i==4:\n",
    "        i+=2\n",
    "        continue\n",
    "    else:\n",
    "        count=5\n",
    "else:\n",
    "    print(f\"count is {count}\")\n",
    "    print(f\" i is {i}\")"
   ]
  },
  {
   "cell_type": "code",
   "execution_count": 10,
   "metadata": {},
   "outputs": [
    {
     "name": "stdout",
     "output_type": "stream",
     "text": [
      "Enter the number : 13\n",
      "13 is a happy number\n"
     ]
    }
   ],
   "source": [
    "# A number is said to be happy if it yields 1 when replaced by the sum of squares of its digits repeatedly.\n",
    "# If thisprocess results in an endless cycle of numbers containing 4, then the number will be an unhappy number.\n",
    "\n",
    "n = int(input(\"Enter the number : \"))\n",
    "num = n\n",
    "while num>0:\n",
    "    if num==1 or num==4:\n",
    "        break\n",
    "    else:\n",
    "        temp=num\n",
    "        sum=0\n",
    "        r=0\n",
    "        while temp>0:\n",
    "            r=temp%10\n",
    "            sum=sum+(r*r)\n",
    "            temp=temp//10\n",
    "        num=sum    \n",
    "if num==1:\n",
    "    print(f\"{n} is a happy number\")\n",
    "else:\n",
    "    print(f\"{n} is an unhappy number\")"
   ]
  },
  {
   "cell_type": "code",
   "execution_count": 33,
   "metadata": {},
   "outputs": [
    {
     "name": "stdout",
     "output_type": "stream",
     "text": [
      "Enter the range : 20\n",
      "3 4 5\n",
      "5 12 13\n",
      "6 8 10\n",
      "8 15 17\n",
      "9 12 15\n",
      "12 16 20\n"
     ]
    }
   ],
   "source": [
    "# Python Program to Find All Pythagorean Triplets in the Range pythagorean triplets are the three\n",
    "# numbers which follows pythagoros therom, a^2+b^2=c^2 -->then a,b,c is triplets.\n",
    "# Enter upper limit:10\n",
    "# 3 4 5\n",
    "# 8 6 10\n",
    "import math\n",
    "r = int(input(\"Enter the range : \"))\n",
    "n1=1\n",
    "for i in range(1,r+1):\n",
    "    n1 = i\n",
    "    n2 = 1\n",
    "    for j in range(i,r+1):\n",
    "        n2 = j\n",
    "        n3 = 1\n",
    "        sum = (n1*n1) + (n2*n2)\n",
    "        while n3<r+1:\n",
    "            if (n3*n3)==sum:\n",
    "                print(n1,n2,n3)   \n",
    "            n3=n3+1"
   ]
  },
  {
   "cell_type": "code",
   "execution_count": 34,
   "metadata": {},
   "outputs": [
    {
     "name": "stdout",
     "output_type": "stream",
     "text": [
      "Enter the number of days:30\n",
      "Total money after 30 is 165\n"
     ]
    }
   ],
   "source": [
    "#You adding money in you peggibank you start from monday with rupees 1 and increase rupees 1 everyday on the next monday \n",
    "#You start with rupees 2 and increase 1 rupees everyday, you follow this every week, write a program to calculate money \n",
    "#after number of days user enters\n",
    "\n",
    "day = int(input(\"Enter the number of days:\"))\n",
    "def calculateMoney(n):\n",
    "    sum=0\n",
    "    for i in range(n):\n",
    "        week = i//7+1\n",
    "        day = i%7\n",
    "        sum += week+day\n",
    "    return sum    \n",
    "money = calculateMoney(day)\n",
    "print(f\"Total money after {day} is {money}\")"
   ]
  },
  {
   "cell_type": "code",
   "execution_count": 22,
   "metadata": {
    "scrolled": false
   },
   "outputs": [
    {
     "name": "stdout",
     "output_type": "stream",
     "text": [
      "Enter the rows : 7\n",
      "       1 \n",
      "      1 1 \n",
      "     1 2 1 \n",
      "    1 3 3 1 \n",
      "   1 4 6 4 1 \n",
      "  1 5 10 10 5 1 \n",
      " 1 6 15 20 15 6 1 \n"
     ]
    }
   ],
   "source": [
    "# Q-4 draw a pattern\n",
    "# Enter row: 7\n",
    "#       1\n",
    "#      1 1\n",
    "#     1 2 1\n",
    "#    1 3 3 1\n",
    "#   1 4 6 4 1\n",
    "#  1 5 10 10 5 1\n",
    "# 1 6 15 20 15 6 1\n",
    "\n",
    "# nCr = n! / (r! * (n-r)!)\n",
    "import math\n",
    "r = int(input(\"Enter the rows : \"))\n",
    "for i in range(r):\n",
    "    for j in range(r-i):\n",
    "        print(end=\" \")\n",
    "    for k in range(i+1):\n",
    "        n=(math.factorial(i))//(math.factorial(k)*math.factorial(i-k))\n",
    "        print((n),end=\" \")\n",
    "    print()    "
   ]
  },
  {
   "cell_type": "code",
   "execution_count": 24,
   "metadata": {},
   "outputs": [
    {
     "ename": "AttributeError",
     "evalue": "module 'math' has no attribute 'count'",
     "output_type": "error",
     "traceback": [
      "\u001b[1;31m---------------------------------------------------------------------------\u001b[0m",
      "\u001b[1;31mAttributeError\u001b[0m                            Traceback (most recent call last)",
      "\u001b[1;32m<ipython-input-24-0404466d0106>\u001b[0m in \u001b[0;36m<module>\u001b[1;34m\u001b[0m\n\u001b[0;32m      1\u001b[0m \u001b[1;32mimport\u001b[0m \u001b[0mmath\u001b[0m\u001b[1;33m\u001b[0m\u001b[1;33m\u001b[0m\u001b[0m\n\u001b[1;32m----> 2\u001b[1;33m \u001b[0mi\u001b[0m \u001b[1;33m=\u001b[0m \u001b[0mmath\u001b[0m\u001b[1;33m.\u001b[0m\u001b[0mcount\u001b[0m\u001b[1;33m(\u001b[0m\u001b[1;36m123\u001b[0m\u001b[1;33m)\u001b[0m\u001b[1;33m\u001b[0m\u001b[1;33m\u001b[0m\u001b[0m\n\u001b[0m\u001b[0;32m      3\u001b[0m \u001b[0mprint\u001b[0m\u001b[1;33m(\u001b[0m\u001b[0mi\u001b[0m\u001b[1;33m)\u001b[0m\u001b[1;33m\u001b[0m\u001b[1;33m\u001b[0m\u001b[0m\n",
      "\u001b[1;31mAttributeError\u001b[0m: module 'math' has no attribute 'count'"
     ]
    }
   ],
   "source": [
    "import math\n",
    "i = mat\n",
    "print(i)"
   ]
  }
 ],
 "metadata": {
  "kernelspec": {
   "display_name": "Python 3",
   "language": "python",
   "name": "python3"
  },
  "language_info": {
   "codemirror_mode": {
    "name": "ipython",
    "version": 3
   },
   "file_extension": ".py",
   "mimetype": "text/x-python",
   "name": "python",
   "nbconvert_exporter": "python",
   "pygments_lexer": "ipython3",
   "version": "3.8.5"
  }
 },
 "nbformat": 4,
 "nbformat_minor": 4
}
