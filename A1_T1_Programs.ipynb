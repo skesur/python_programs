{
 "cells": [
  {
   "cell_type": "code",
   "execution_count": 6,
   "id": "8e39f128-3464-4043-a95f-e55c8bc7bbfe",
   "metadata": {},
   "outputs": [
    {
     "name": "stdin",
     "output_type": "stream",
     "text": [
      "Enter the a :  3\n",
      "Enter the n :  81\n"
     ]
    },
    {
     "name": "stdout",
     "output_type": "stream",
     "text": [
      "Output : 4\n"
     ]
    }
   ],
   "source": [
    "# Write a Python program to find an integer exponent x such that a^x = n.\n",
    "#  Input:\n",
    "#  a =  2 : n =  1024\n",
    "#  Output:\n",
    "#  10\n",
    "#  Input:\n",
    "#  a =  3 : n =  81\n",
    "#  Output:\n",
    "#  4\n",
    "\n",
    "import math\n",
    "a = int(input(\"Enter the a : \"))\n",
    "n = int(input(\"Enter the n : \"))\n",
    "\n",
    "o = math.log(n)//math.log(a)\n",
    "\n",
    "print(f\"Output : {int(o)}\")"
   ]
  },
  {
   "cell_type": "code",
   "execution_count": 7,
   "id": "899f895e-63e4-405e-9892-165ac4a2fb4d",
   "metadata": {},
   "outputs": [
    {
     "name": "stdin",
     "output_type": "stream",
     "text": [
      "Enter the hours :  6\n"
     ]
    },
    {
     "name": "stdout",
     "output_type": "stream",
     "text": [
      "minutes = 360 and seconds = 21600\n"
     ]
    }
   ],
   "source": [
    "# Write a Python program to convert hours into minutes and seconds (Ex, input of hours = 6, then output will be minutes = \n",
    "# 360 and seconds = 21600 ).\n",
    "\n",
    "h = int(input(\"Enter the hours : \"))\n",
    "\n",
    "m = h*60\n",
    "s = h*3600\n",
    "\n",
    "print(f\"minutes = {m} and seconds = {s}\")"
   ]
  },
  {
   "cell_type": "code",
   "execution_count": 8,
   "id": "ec0fd803-bd27-4481-b323-2ce7439c93dd",
   "metadata": {},
   "outputs": [
    {
     "name": "stdin",
     "output_type": "stream",
     "text": [
      "Enter the days :  370\n"
     ]
    },
    {
     "name": "stdout",
     "output_type": "stream",
     "text": [
      "years=1, months=0, and days=5\n"
     ]
    }
   ],
   "source": [
    "# Write a Python program to convert Days into Years, Months, and Days. (Ex: if input of Days = 370 then output will be, \n",
    "# years=1, months=0 and days = 5).\n",
    "\n",
    "days = int(input(\"Enter the days : \"))\n",
    "\n",
    "years = days//365\n",
    "\n",
    "extra_days = days%365\n",
    "\n",
    "months = extra_days//31\n",
    "\n",
    "print(f\"years={years}, months={months}, and days={extra_days}\")"
   ]
  },
  {
   "cell_type": "code",
   "execution_count": 14,
   "id": "382ee9a4-6e20-4194-852f-32663119f72a",
   "metadata": {},
   "outputs": [
    {
     "name": "stdin",
     "output_type": "stream",
     "text": [
      "Enter the numbers :  111\n"
     ]
    },
    {
     "name": "stdout",
     "output_type": "stream",
     "text": [
      "111 is odd\n"
     ]
    }
   ],
   "source": [
    "# Write a program to determine if a given number is ‘odd’ or ‘even’ and print the following message: “Number is ODD” or \n",
    "# “Number is Even”.\n",
    "\n",
    "a = int(input(\"Enter the numbers : \"))\n",
    "\n",
    "if a%2==1 :\n",
    "    print(f\"{a} is odd\")\n",
    "else :\n",
    "    print(f\"{a} is even\")"
   ]
  },
  {
   "cell_type": "code",
   "execution_count": 20,
   "id": "ca36b84f-0896-4b6e-a32f-b58aa55d01c3",
   "metadata": {},
   "outputs": [
    {
     "name": "stdin",
     "output_type": "stream",
     "text": [
      "Enter the first number :  3\n",
      "Enter the second number :  2\n",
      "Enter the third number :  1\n"
     ]
    },
    {
     "name": "stdout",
     "output_type": "stream",
     "text": [
      "3 is maximum\n"
     ]
    }
   ],
   "source": [
    "# Write a program to find the maximum number among the three input numbers\n",
    "\n",
    "a = int(input(\"Enter the first number : \"))\n",
    "b = int(input(\"Enter the second number : \"))\n",
    "c = int(input(\"Enter the third number : \"))\n",
    "\n",
    "if a>b and a>c:\n",
    "    print(f\"{a} is maximum\")\n",
    "elif b>a and b>c:\n",
    "    print(f\"{b} is maximum\")\n",
    "elif c>a and c>b:\n",
    "    print(f\"{c} is maximum\")\n",
    "elif a==b==c:\n",
    "    print(f\"{a} is maximum\")\n",
    "elif a>b and b==c:\n",
    "    print(f\"{a} is maximum\")\n",
    "elif b>a and a==c:\n",
    "    print(f\"{b} is maximum\")\n",
    "elif c>a and a==b:\n",
    "    print(f\"{c} is maximum\")\n",
    "elif a>b and a==c:\n",
    "    print(f\"{a} is maximum\")\n",
    "elif b>a and b==c:\n",
    "    print(f\"{b} is maximum\")\n",
    "elif c>a and c==b:\n",
    "    print(f\"{c} is maximum\")  \n",
    "elif a>c and a==b:\n",
    "    print(f\"{a} is maximum\")\n",
    "elif b>a and b==c:\n",
    "    print(f\"{b} is maximum\")\n",
    "elif c>b and a==c:\n",
    "    print(f\"{c} is maximum\")    "
   ]
  },
  {
   "cell_type": "code",
   "execution_count": 2,
   "id": "6bdc0385-e4dd-4ee5-994d-a5e4b3469c00",
   "metadata": {},
   "outputs": [
    {
     "name": "stdin",
     "output_type": "stream",
     "text": [
      "Enter the first number :  3\n",
      "Enter the second number :  3\n",
      "Enter the third number :  3\n"
     ]
    },
    {
     "name": "stdout",
     "output_type": "stream",
     "text": [
      "answer : 27\n"
     ]
    }
   ],
   "source": [
    "#  Write a Python Program to calculate the sum of three given numbers. If the values are equal, then return thrice their sum. \n",
    "\n",
    "a = int(input(\"Enter the first number : \"))\n",
    "b = int(input(\"Enter the second number : \"))\n",
    "c = int(input(\"Enter the third number : \"))\n",
    "\n",
    "if a==b==c :\n",
    "    n = (a+b+c)*3\n",
    "    print(f\"answer : {n}\")\n",
    "else :\n",
    "    n = (a+b+c)\n",
    "    print(f\"answer : {n}\")"
   ]
  },
  {
   "cell_type": "code",
   "execution_count": 5,
   "id": "5e7ccb99-1817-4d5a-a8e0-0e7691a8451c",
   "metadata": {},
   "outputs": [
    {
     "name": "stdin",
     "output_type": "stream",
     "text": [
      "Enter the start of range :  1\n",
      "Enter the end of range :  20\n"
     ]
    },
    {
     "name": "stdout",
     "output_type": "stream",
     "text": [
      "1  10  19  "
     ]
    }
   ],
   "source": [
    "# Write a Python Program to print all Happy Numbers between the given range entered by user. (Include both Start and \n",
    "# End Range Number).\n",
    "# Output:\n",
    "#  Enter start range:1\n",
    "#  Enter end range:20\n",
    "#  1 10 19 \n",
    "\n",
    "n1 = int(input(\"Enter the start of range : \"))\n",
    "n2 = int(input(\"Enter the end of range : \"))\n",
    "\n",
    "for i in range (n1, n2+1, 1):\n",
    "    num = i\n",
    "    while num<=n2 and num>9:\n",
    "        temp = num\n",
    "        sum = 0\n",
    "        while temp>0 :\n",
    "            r = temp%10\n",
    "            sum = sum+r\n",
    "            temp = temp//10    \n",
    "        num = sum\n",
    "    if num==1:\n",
    "        print(f\"{i} \",end=\" \")"
   ]
  },
  {
   "cell_type": "code",
   "execution_count": 12,
   "id": "6ed9adcd-1a4e-4e5f-8996-35eb48924b07",
   "metadata": {},
   "outputs": [
    {
     "name": "stdin",
     "output_type": "stream",
     "text": [
      "Enter the number :  123547\n"
     ]
    },
    {
     "name": "stdout",
     "output_type": "stream",
     "text": [
      "Output product : 105\n"
     ]
    }
   ],
   "source": [
    "# Write a Python Program to compute the product of the odd digits in a given number.  \n",
    "# 0 if there are not any odd digits in a given number.\n",
    "#  Example:\n",
    "#  (1)\n",
    "#  Input: 123456789\n",
    "#  Output: 945\n",
    "#  (2)\n",
    "#  Input: 2468\n",
    "#  Output: 0\n",
    "#  (3)\n",
    "#  Input: 123547\n",
    "#  Output: 105\n",
    "\n",
    "n = int(input(\"Enter the number : \"))\n",
    "\n",
    "temp = n\n",
    "sum = 1\n",
    "count = 0\n",
    "\n",
    "while temp>0 :\n",
    "    r = temp%10\n",
    "    if r%2!=0 :\n",
    "        count+=1\n",
    "        sum = sum*r\n",
    "    temp = temp//10\n",
    "\n",
    "print(f\"Output product : {sum}\" if count>0 else f\"Output product : 0\")"
   ]
  },
  {
   "cell_type": "code",
   "execution_count": 15,
   "id": "fa455f07-0312-49d5-80ba-fe9bdd19cc69",
   "metadata": {},
   "outputs": [
    {
     "name": "stdin",
     "output_type": "stream",
     "text": [
      "Enter the year :  2024\n"
     ]
    },
    {
     "name": "stdout",
     "output_type": "stream",
     "text": [
      "2024 is a leap year\n"
     ]
    }
   ],
   "source": [
    "#  Write a program to check if a year is a leap year or not (Nested If)\n",
    "\n",
    "year = int(input(\"Enter the year : \"))\n",
    "\n",
    "if ((year%400==0) or (year%4==0 and year%100!=0))  :\n",
    "    print(f\"{year} is a leap year\")\n",
    "else :\n",
    "    print(f\"{year} is a non leap year\")"
   ]
  },
  {
   "cell_type": "code",
   "execution_count": 47,
   "id": "fc16f275-3632-496c-a455-e0a5736766f3",
   "metadata": {},
   "outputs": [
    {
     "name": "stdin",
     "output_type": "stream",
     "text": [
      "Enter the n :  7\n"
     ]
    },
    {
     "name": "stdout",
     "output_type": "stream",
     "text": [
      "0 1 1 2 3 5 8 "
     ]
    }
   ],
   "source": [
    "#  Write a Python program to display the Fibonacci sequence up to the n-th term.\n",
    "   \n",
    "n = int(input(\"Enter the n : \"))\n",
    "\n",
    "a = 0\n",
    "b = 1\n",
    "\n",
    "if n==0:\n",
    "    print(a, end=\" \")\n",
    "elif n==1:\n",
    "    print(a, b, end=\" \")\n",
    "elif n>1:\n",
    "    a = 0\n",
    "    b = 1\n",
    "    c = 0\n",
    "    print(a, b, end=\" \")\n",
    "    for i in range(2,n):\n",
    "        c = b+a\n",
    "        a=b\n",
    "        b=c\n",
    "        print(c, end=\" \")\n",
    "else:\n",
    "    print(\"Not possible\")"
   ]
  },
  {
   "cell_type": "code",
   "execution_count": 53,
   "id": "f6cd45e0-4487-45cf-a55e-3394b87bcde6",
   "metadata": {},
   "outputs": [
    {
     "name": "stdin",
     "output_type": "stream",
     "text": [
      "Enter the number :  1234\n"
     ]
    },
    {
     "name": "stdout",
     "output_type": "stream",
     "text": [
      "reverse : 4321\n"
     ]
    }
   ],
   "source": [
    "# Write a program to reverse a number.\n",
    "\n",
    "n = int(input(\"Enter the number : \"))\n",
    "\n",
    "num = n\n",
    "sum = 0\n",
    "c = 0\n",
    "\n",
    "while num>0:\n",
    "    c+=1\n",
    "    num=num//10\n",
    "\n",
    "temp = n\n",
    "c = c-1\n",
    "\n",
    "while temp>0:\n",
    "    r = temp%10\n",
    "    sum = sum + (r*(10**c))\n",
    "    c-=1\n",
    "    temp = temp//10\n",
    "\n",
    "print(f\"reverse : {sum}\")    "
   ]
  },
  {
   "cell_type": "code",
   "execution_count": 60,
   "id": "916fae93-ce22-40a6-bc73-e02e7afa066d",
   "metadata": {},
   "outputs": [
    {
     "name": "stdin",
     "output_type": "stream",
     "text": [
      "Enter the number :  153\n"
     ]
    },
    {
     "name": "stdout",
     "output_type": "stream",
     "text": [
      "153 is an armstrong number\n"
     ]
    }
   ],
   "source": [
    "# Write a program to check whether a number is an Armstrong number or not\n",
    "\n",
    "n = int(input(\"Enter the number : \"))\n",
    "\n",
    "num = n\n",
    "sum = 0\n",
    "c = 0\n",
    "\n",
    "while num>0:\n",
    "    c+=1\n",
    "    num=num//10\n",
    "\n",
    "temp = n\n",
    "\n",
    "while temp>0:\n",
    "    r = temp%10\n",
    "    sum = sum + (r**c)\n",
    "    temp = temp//10\n",
    "\n",
    "if n==sum :\n",
    "    print(f\"{sum} is an armstrong number\")\n",
    "else :\n",
    "    print(f\"{sum} is not an armstrong number\")"
   ]
  },
  {
   "cell_type": "code",
   "execution_count": 64,
   "id": "ac17c280-b968-4b4f-b81a-e46b035fa64b",
   "metadata": {},
   "outputs": [
    {
     "name": "stdin",
     "output_type": "stream",
     "text": [
      "Enter the start :  1\n",
      "Enter the end :  10\n"
     ]
    },
    {
     "name": "stdout",
     "output_type": "stream",
     "text": [
      "2 3 5 7 "
     ]
    }
   ],
   "source": [
    "# Write a program to print prime numbers between the given interval from the user\n",
    "\n",
    "n1 = int(input(\"Enter the start : \"))\n",
    "n2 = int(input(\"Enter the end : \"))\n",
    "\n",
    "def prime(n):\n",
    "    num = n\n",
    "    c = 0\n",
    "\n",
    "    for i in range(1,num+1):\n",
    "        if num%i==0:\n",
    "            c+=1\n",
    "\n",
    "    if c==2:\n",
    "        return True\n",
    "    else:\n",
    "        return False\n",
    "\n",
    "for i in range(n1,n2+1):\n",
    "    if prime(i):\n",
    "        print(i,end=\" \")"
   ]
  },
  {
   "cell_type": "code",
   "execution_count": 65,
   "id": "98ba3367-7d16-4be9-ba0a-5857edfbc995",
   "metadata": {},
   "outputs": [
    {
     "name": "stdin",
     "output_type": "stream",
     "text": [
      "Enter the n :  4\n"
     ]
    },
    {
     "name": "stdout",
     "output_type": "stream",
     "text": [
      "* \n",
      "* * \n",
      "* * * \n",
      "* * * * \n"
     ]
    }
   ],
   "source": [
    " # Draw a pattern using a python program:\n",
    " # *\n",
    " # *  *\n",
    " # *  *  *\n",
    " # *  *  *  *\n",
    "\n",
    "n = int(input(\"Enter the n : \"))\n",
    "for i in range(1,n+1):\n",
    "    for j in range(1,i+1):\n",
    "        print(\"*\",end=\" \")\n",
    "    print()    "
   ]
  },
  {
   "cell_type": "code",
   "execution_count": 73,
   "id": "3690ffad-32d0-4ac3-a4dd-00272e0b3f2e",
   "metadata": {},
   "outputs": [
    {
     "name": "stdin",
     "output_type": "stream",
     "text": [
      "Enter the n :  4\n"
     ]
    },
    {
     "name": "stdout",
     "output_type": "stream",
     "text": [
      "  * * * * \n",
      "    * * * \n",
      "      * * \n",
      "        * \n"
     ]
    }
   ],
   "source": [
    " # Draw a pattern:\n",
    " # *  *  *  *\n",
    " #    *  *  *\n",
    " #       *  *\n",
    " #          *\n",
    "\n",
    "n = int(input(\"Enter the n : \"))\n",
    "for i in range(1,n+1):\n",
    "    for k in range(0,i):\n",
    "        print(\" \",end=\" \")\n",
    "    for j in range(n+1-i):\n",
    "        print(\"*\",end=\" \")\n",
    "    print()    "
   ]
  },
  {
   "cell_type": "code",
   "execution_count": 75,
   "id": "c8402049-c447-4d72-99c1-74705c428a07",
   "metadata": {},
   "outputs": [
    {
     "name": "stdin",
     "output_type": "stream",
     "text": [
      "Enter the n :  4\n"
     ]
    },
    {
     "name": "stdout",
     "output_type": "stream",
     "text": [
      "   * \n",
      "  * * \n",
      " * * * \n",
      "* * * * \n"
     ]
    }
   ],
   "source": [
    "# Draw a pattern using a Python program:\n",
    "#       *\n",
    "#     *  *\n",
    "#   *  *  *\n",
    "# *  *  *  *\n",
    "\n",
    "n = int(input(\"Enter the n : \"))\n",
    "for i in range(1,n+1):\n",
    "    for k in range(n-i):\n",
    "        print(end=\" \")\n",
    "    for j in range(1,i+1):\n",
    "        print(\"*\",end=\" \")\n",
    "    print()  "
   ]
  },
  {
   "cell_type": "code",
   "execution_count": 79,
   "id": "90768f48-fb74-4cee-b26a-2e3cd79aeb30",
   "metadata": {},
   "outputs": [
    {
     "name": "stdin",
     "output_type": "stream",
     "text": [
      "Enter the n :  5\n"
     ]
    },
    {
     "name": "stdout",
     "output_type": "stream",
     "text": [
      "1 2 3 4 5 \n",
      "1 2 3 4 \n",
      "1 2 3 \n",
      "1 2 \n",
      "1 \n"
     ]
    }
   ],
   "source": [
    "# Draw a pattern using a Python program:\n",
    "#  1  2  3  4  5\n",
    "#  1  2  3  4\n",
    "#  1  2  3 \n",
    "#  1  2  \n",
    "#  1\n",
    "\n",
    "n = int(input(\"Enter the n : \"))\n",
    "for i in range(1,n+1):\n",
    "    for j in range(n+1-i):\n",
    "        print((j+1),end=\" \")\n",
    "    print() "
   ]
  },
  {
   "cell_type": "code",
   "execution_count": 82,
   "id": "db2bd49e-1a02-4770-b7c7-ce36caf84e77",
   "metadata": {},
   "outputs": [
    {
     "name": "stdin",
     "output_type": "stream",
     "text": [
      "Enter the n :  4\n"
     ]
    },
    {
     "name": "stdout",
     "output_type": "stream",
     "text": [
      "1 \n",
      "2 2 \n",
      "3 3 3 \n",
      "4 4 4 4 \n"
     ]
    }
   ],
   "source": [
    "# Draw a pattern using a Python program:\n",
    "#  1\n",
    "#  2  2\n",
    "#  3  3  3\n",
    "#  4  4  4  4\n",
    "\n",
    "n = int(input(\"Enter the n : \"))\n",
    "for i in range(1,n+1):\n",
    "    for j in range(i):\n",
    "        print((i),end=\" \")\n",
    "    print()"
   ]
  },
  {
   "cell_type": "code",
   "execution_count": 83,
   "id": "a8f44226-c3d6-45d4-a835-b7a84112cf05",
   "metadata": {},
   "outputs": [
    {
     "name": "stdin",
     "output_type": "stream",
     "text": [
      "Enter the n :  4\n"
     ]
    },
    {
     "name": "stdout",
     "output_type": "stream",
     "text": [
      "1 \n",
      "0 1 \n",
      "1 0 1 \n",
      "0 1 0 1 \n"
     ]
    }
   ],
   "source": [
    "# Draw a pattern using a Python program:\n",
    "#  1\n",
    "#  0  1\n",
    "#  1  0  1\n",
    "#  0  1  0  1\n",
    "\n",
    "n = int(input(\"Enter the n : \"))\n",
    "for i in range(1,n+1):\n",
    "    for j in range(1,i+1):\n",
    "        c=0\n",
    "        if (((i%2!=0)and(j%2!=0))or((i%2==0)and(j%2==0))) :\n",
    "            c=1\n",
    "        print((c),end=\" \")\n",
    "    print()"
   ]
  },
  {
   "cell_type": "code",
   "execution_count": 84,
   "id": "d3c1254b-9733-461f-91b5-305196234b98",
   "metadata": {},
   "outputs": [
    {
     "name": "stdin",
     "output_type": "stream",
     "text": [
      "Enter the n :  4\n"
     ]
    },
    {
     "name": "stdout",
     "output_type": "stream",
     "text": [
      "   1 \n",
      "  1 2 \n",
      " 1 2 3 \n",
      "1 2 3 4 \n"
     ]
    }
   ],
   "source": [
    "# Draw a pattern using a Python program:\n",
    "#      1\n",
    "#     1  2\n",
    "#    1  2  3\n",
    "#   1  2  3  4\n",
    "\n",
    "n = int(input(\"Enter the n : \"))\n",
    "for i in range(1,n+1):\n",
    "    for k in range(n-i):\n",
    "        print(end=\" \")\n",
    "    for j in range(1,i+1):\n",
    "        print(j,end=\" \")\n",
    "    print()"
   ]
  },
  {
   "cell_type": "code",
   "execution_count": 85,
   "id": "b6016065-9061-4f36-b266-78595d5dcc8f",
   "metadata": {},
   "outputs": [
    {
     "name": "stdin",
     "output_type": "stream",
     "text": [
      "Enter the n :  6\n"
     ]
    },
    {
     "name": "stdout",
     "output_type": "stream",
     "text": [
      "1 2 3 4 5 6 \n",
      " 2 3 4 5 6 \n",
      "  3 4 5 6 \n",
      "   4 5 6 \n",
      "    5 6 \n",
      "     6 \n",
      "    6 5 \n",
      "   6 5 4 \n",
      "  6 5 4 3 \n",
      " 6 5 4 3 2 \n",
      "6 5 4 3 2 1 \n"
     ]
    }
   ],
   "source": [
    "n1 = int(input(\"Enter the n : \"))\n",
    "\n",
    "n=0\n",
    "\n",
    "for i in range(n1):\n",
    "    n = i+1\n",
    "    for k in range(i):\n",
    "        print(end=\" \")\n",
    "    for j in range(n1-i):\n",
    "        print(n,end=\" \")\n",
    "        n+=1\n",
    "    print()     \n",
    "for i in range(n1):\n",
    "    n11 = n1\n",
    "    if i==0 :\n",
    "        continue\n",
    "    for k in range((n1-1)-i):\n",
    "        print(end=\" \")\n",
    "    for j in range(i+1):\n",
    "        print(n11,end=\" \")\n",
    "        n11-=1\n",
    "    print() "
   ]
  },
  {
   "cell_type": "code",
   "execution_count": 95,
   "id": "2600710f-a819-4098-9b6b-668ced1c723c",
   "metadata": {},
   "outputs": [
    {
     "name": "stdin",
     "output_type": "stream",
     "text": [
      "Enter the number :  1234\n"
     ]
    },
    {
     "name": "stdout",
     "output_type": "stream",
     "text": [
      "Output : 4231\n"
     ]
    }
   ],
   "source": [
    " # Write a Python program to swap the first and last digits of a number using a loop.\n",
    " # (for example: input = 123456 then output=623451)\n",
    "\n",
    "n = int(input(\"Enter the number : \"))\n",
    "\n",
    "n1 = n\n",
    "c1 = 0\n",
    "while n1>0:\n",
    "    c1+=1\n",
    "    n1=n1//10\n",
    "\n",
    "sum = 0 \n",
    "n2 = n\n",
    "c2 = 0\n",
    "while n2>0:\n",
    "    c2 += 1\n",
    "    r = n2%10\n",
    "    if c2==1:\n",
    "        sum = sum + (r*(10**(c1-1)))\n",
    "    elif c2==c1:\n",
    "        sum = sum + (r*(1))\n",
    "    else:\n",
    "        sum = sum + (r*(10**(c2-1)))\n",
    "    n2 = n2//10\n",
    "\n",
    "print(f\"Output : {sum}\")"
   ]
  },
  {
   "cell_type": "code",
   "execution_count": 100,
   "id": "e7990d05-7e49-4e5d-859e-f96bc03fae8f",
   "metadata": {},
   "outputs": [
    {
     "name": "stdin",
     "output_type": "stream",
     "text": [
      "Enter a number ('QUIT' to exit):  4\n",
      "Enter a number ('QUIT' to exit):  1\n",
      "Enter a number ('QUIT' to exit):  5\n",
      "Enter a number ('QUIT' to exit):  QUIT\n"
     ]
    },
    {
     "name": "stdout",
     "output_type": "stream",
     "text": [
      "\n",
      "Sum = 10.0\n",
      "Average = 3.3333333333333335\n",
      "Minimum number = 1\n",
      "Maximum number = 5\n"
     ]
    }
   ],
   "source": [
    " # Write a Python program that prompts the user to enter numbers and stops only when the user enters “QUIT”. After this \n",
    " # print sum  and average of the numbers, minimum and maximum number from the given numbers entered by the user.\n",
    " # Note: you are not allowed to use any built-in structures like list, tuple, etc., or any  built-in function like min, max,  etc.\n",
    " # For Example:  Input:  4,1,5,”QUIT”\n",
    " # Output:\n",
    " # Sum=10\n",
    " # Average=3.333\n",
    " # Minimum number=1\n",
    " # Maximum number=5\n",
    "\n",
    "total_sum = 0\n",
    "count = 0\n",
    "minimum = None\n",
    "maximum = None\n",
    "\n",
    "while True:\n",
    "    user_input = input(\"Enter a number ('QUIT' to exit): \")\n",
    "    \n",
    "    if user_input == \"QUIT\":\n",
    "        break\n",
    "    \n",
    "    number = float(user_input)\n",
    "        \n",
    "    total_sum += number\n",
    "    count += 1\n",
    "        \n",
    "    if minimum is None:\n",
    "        minimum = number\n",
    "    elif number < minimum:\n",
    "        minimum = number\n",
    "        \n",
    "    if maximum is None:\n",
    "        maximum = number\n",
    "    elif number > maximum:\n",
    "        maximum = number\n",
    "            \n",
    "\n",
    "if count > 0:\n",
    "    average = total_sum / count\n",
    "    print(f\"\\nSum = {total_sum}\")\n",
    "    print(f\"Average = {average}\")\n",
    "    print(f\"Minimum number = {int(minimum)}\")\n",
    "    print(f\"Maximum number = {int(maximum)}\")\n",
    "else:\n",
    "    print(\"No numbers were entered.\")"
   ]
  },
  {
   "cell_type": "code",
   "execution_count": 103,
   "id": "b3abd3ae-ebfe-46e4-91df-0acc3016c9ad",
   "metadata": {},
   "outputs": [
    {
     "name": "stdin",
     "output_type": "stream",
     "text": [
      "Enter number or 'stop':  -1\n",
      "Enter number or 'stop':  -5\n",
      "Enter number or 'stop':  2\n",
      "Enter number or 'stop':  4\n",
      "Enter number or 'stop':  6\n",
      "Enter number or 'stop':  9\n",
      "Enter number or 'stop':  stop\n"
     ]
    },
    {
     "name": "stdout",
     "output_type": "stream",
     "text": [
      "\n",
      "Output:\n",
      "for even : 6 (max), 2 (min), 4.0 (avg)\n",
      "for odd : 9 (max), -5 (min), 1.0 (avg)\n"
     ]
    }
   ],
   "source": [
    "# Write a Python program that prompts the user to enter numbers and stops only when the user enters “stop”. After this, \n",
    "# print the minimum even, maximum even, average of even number, minimum odd, maximum odd, average of odd   \n",
    "# number from among all the numbers entered by the user.\n",
    "# Note:   You are not allowed to use any built-in structures like lists, tuples, etc. or any built-in functions like max, min, sum\n",
    "#  Example: input and output\n",
    "#  enter number or q for'stop:'-1\n",
    "#  enter number or q for'stop:'-5\n",
    "#  enter number or q for'stop:'9\n",
    "#  enter number or q for'stop:'2\n",
    "#  enter number or q for'stop:'4\n",
    "#  enter number or q for'stop:'6\n",
    "#  enter number or q for'stop:'stop\n",
    "#  Output:\n",
    "#  for even 6 2 4.0 (max, min, avg)\n",
    "#  for odd 9 -5 1.0 (max, min, avg)\n",
    "\n",
    "even_sum = 0\n",
    "even_count = 0\n",
    "even_min = None\n",
    "even_max = None\n",
    "\n",
    "odd_sum = 0\n",
    "odd_count = 0\n",
    "odd_min = None\n",
    "odd_max = None\n",
    "\n",
    "while True:\n",
    "    user_input = input(\"Enter number or 'stop': \")\n",
    "    \n",
    "    if user_input == \"stop\":\n",
    "        break\n",
    "    \n",
    "    number = int(user_input)\n",
    "        \n",
    "    if number % 2 == 0:\n",
    "        even_sum += number\n",
    "        even_count += 1\n",
    "            \n",
    "        if even_min is None:\n",
    "            even_min = number\n",
    "        elif number < even_min:\n",
    "            even_min = number\n",
    "            \n",
    "        if even_max is None:\n",
    "            even_max = number\n",
    "        elif number > even_max:\n",
    "            even_max = number\n",
    "    else:\n",
    "        odd_sum += number\n",
    "        odd_count += 1\n",
    "            \n",
    "        if odd_min is None:\n",
    "            odd_min = number\n",
    "        elif number < odd_min:\n",
    "            odd_min = number\n",
    "            \n",
    "        if odd_max is None:\n",
    "            odd_max = number\n",
    "        elif number > odd_max:\n",
    "            odd_max = number\n",
    "\n",
    "print(\"\\nOutput:\")\n",
    "\n",
    "if even_count > 0:\n",
    "    even_avg = even_sum / even_count\n",
    "    print(f\"for even : {even_max} (max), {even_min} (min), {even_avg} (avg)\")\n",
    "else:\n",
    "    print(\"No even numbers were entered.\")\n",
    "\n",
    "if odd_count > 0:\n",
    "    odd_avg = odd_sum / odd_count\n",
    "    print(f\"for odd : {odd_max} (max), {odd_min} (min), {odd_avg} (avg)\")\n",
    "else:\n",
    "    print(\"No odd numbers were entered.\")"
   ]
  },
  {
   "cell_type": "code",
   "execution_count": 104,
   "id": "2e974ee6-a4b3-43d3-acb0-8cd04989eb68",
   "metadata": {},
   "outputs": [
    {
     "name": "stdin",
     "output_type": "stream",
     "text": [
      "Enter the first number :  15\n",
      "Enter the second number :  10\n"
     ]
    },
    {
     "name": "stdout",
     "output_type": "stream",
     "text": [
      "GCD of 15 and 10 is 5\n"
     ]
    }
   ],
   "source": [
    "# Write a Python program to compute the greatest common divisor (GCD) of two positive integers.\n",
    "# The greatest common divisor (GCD) of two nonzero integers a and b is the greatest positive integer d such that d is a \n",
    "# divisor of both a and b; that is, there are integers e and f such that a = de and b = df, and d is the largest such integer. The \n",
    "# GCD of a and b is generally denoted gcd(a, b). \n",
    "# For example, the greatest common factor of 15 and 10 is 5, since both the numbers can be divided by 5.\n",
    "\n",
    "n1 = int(input(\"Enter the first number : \"))\n",
    "n2 = int(input(\"Enter the second number : \"))\n",
    "\n",
    "if n2>0 and n1>0:\n",
    "    max_n = 0 \n",
    "    min_n = 0\n",
    "    if n1>n2:\n",
    "        min_n = n2\n",
    "    else:\n",
    "        min_n = n1\n",
    "    \n",
    "    for i in range(1,min_n+1):\n",
    "        if n1%i==0 and n2%i==0:\n",
    "            max_n = i\n",
    "\n",
    "    print(f\"GCD of {n1} and {n2} is {max_n}\")        \n",
    "else:\n",
    "    print(\"Both number should be non-zero\")"
   ]
  },
  {
   "cell_type": "code",
   "execution_count": 105,
   "id": "6b8ba046-c208-4562-8a8f-f896457c6d11",
   "metadata": {},
   "outputs": [
    {
     "name": "stdin",
     "output_type": "stream",
     "text": [
      "Enter a single digit number (0-9):  2\n"
     ]
    },
    {
     "name": "stdout",
     "output_type": "stream",
     "text": [
      "\n",
      "All 6-digit numbers whose digit product equals 2:\n",
      "111112\n",
      "111121\n",
      "111211\n",
      "112111\n",
      "121111\n",
      "211111\n",
      "Total numbers found: 6\n"
     ]
    }
   ],
   "source": [
    "# Write a program that enters a single digit integer number and produces all possible 6-digit numbers for which the product \n",
    "# of their digits is equal to the entered number.\n",
    "#  Example: \"number\" → 2\n",
    "#  •111112 → 1 * 1 * 1 * 1 * 1 * 2 = 2\n",
    "#  •111121 → 1 * 1 * 1 * 1 * 2 * 1 = 2\n",
    "#  •111211 → 1 * 1 * 1 * 2 * 1 * 1 = 2\n",
    "#  •112111 → 1 * 1 * 2 * 1 * 1 * 1 = 2\n",
    "#  •121111 → 1 * 2 * 1 * 1 * 1 * 1 = 2\n",
    "#  •211111 → 2 * 1 * 1 * 1 * 1 * 1 = 2\n",
    "\n",
    "number = int(input(\"Enter a single digit number (0-9): \"))\n",
    "\n",
    "if number < 0 or number > 9:\n",
    "    print(\"Please enter a single digit number between 0 and 9.\")\n",
    "else:\n",
    "    print(f\"\\nAll 6-digit numbers whose digit product equals {number}:\")\n",
    "    count = 0\n",
    "    \n",
    "    for d1 in range(1, 10):  \n",
    "        for d2 in range(0, 10):\n",
    "            for d3 in range(0, 10):\n",
    "                for d4 in range(0, 10):\n",
    "                    for d5 in range(0, 10):\n",
    "                        for d6 in range(0, 10):\n",
    "                            product = d1 * d2 * d3 * d4 * d5 * d6\n",
    "                            \n",
    "                            if product == number:\n",
    "                                print(f\"{d1}{d2}{d3}{d4}{d5}{d6}\")\n",
    "                                count += 1\n",
    "    \n",
    "    print(f\"Total numbers found: {count}\")"
   ]
  }
 ],
 "metadata": {
  "kernelspec": {
   "display_name": "Python 3 (ipykernel)",
   "language": "python",
   "name": "python3"
  },
  "language_info": {
   "codemirror_mode": {
    "name": "ipython",
    "version": 3
   },
   "file_extension": ".py",
   "mimetype": "text/x-python",
   "name": "python",
   "nbconvert_exporter": "python",
   "pygments_lexer": "ipython3",
   "version": "3.12.4"
  }
 },
 "nbformat": 4,
 "nbformat_minor": 5
}
