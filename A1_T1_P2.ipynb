{
 "cells": [
  {
   "cell_type": "code",
   "execution_count": 10,
   "metadata": {},
   "outputs": [
    {
     "name": "stdout",
     "output_type": "stream",
     "text": [
      "Enter number12\n",
      "122436\n"
     ]
    }
   ],
   "source": [
    "i = input(\"Enter number\")\n",
    "a = int(i)+int(i+i)+int(i+i+i)\n",
    "print(a)"
   ]
  },
  {
   "cell_type": "code",
   "execution_count": null,
   "metadata": {},
   "outputs": [],
   "source": [
    "import math\n",
    "r=20\n",
    "print(math.r)"
   ]
  },
  {
   "cell_type": "code",
   "execution_count": 15,
   "metadata": {},
   "outputs": [
    {
     "name": "stdout",
     "output_type": "stream",
     "text": [
      "Positive\n"
     ]
    }
   ],
   "source": [
    "x = 2\n",
    "if x>0 : \n",
    "    print('Positive')\n",
    "elif x==0 :\n",
    "    print('Zero')\n",
    "else :\n",
    "    print('Negative')"
   ]
  },
  {
   "cell_type": "code",
   "execution_count": null,
   "metadata": {},
   "outputs": [],
   "source": [
    "i = int(input(\"Enter amount :\"))\n",
    "if i>0 :\n",
    "    a500 = i//500\n",
    "    r500 = i%500\n",
    "    if r500>0 :\n",
    "        a200 = r500//200\n",
    "        r200 = r500%200\n",
    "        if r200>0 :\n",
    "            a100 = r200//100\n",
    "            r100 = r200%100\n",
    "            if r100>0 :\n",
    "                a50 = r100//50\n",
    "                r50 = r100%50\n",
    "                if r50>0 :\n",
    "                    a10 = r50//10\n",
    "                    r10 = r50%10\n",
    "                    print(i ,\"=\", a500,\"+\",a200,\"+\",a100,\"+\",a50,\"+\",a10)\n",
    "                else:\n",
    "                    print(i ,\"=\", a500,\"+\",a200,\"+\",a100,\"+\",a50)\n",
    "            else:\n",
    "                print(i ,\"=\", a500,\"+\",a200,\"+\",a100)\n",
    "        else:\n",
    "            print(i ,\"=\" ,a500,\"+\",a200)\n",
    "    else:\n",
    "        print(i,\"=\",a500)\n",
    "else :\n",
    "    print('Enter valid amount...')"
   ]
  },
  {
   "cell_type": "code",
   "execution_count": 1,
   "metadata": {},
   "outputs": [
    {
     "name": "stdout",
     "output_type": "stream",
     "text": [
      "Enter amount :7070\n",
      "7070 = 500:  14 + 200:  0 + 100:  0 + 50:  1 + 10:  2\n"
     ]
    }
   ],
   "source": [
    "i = int(input(\"Enter amount :\"))\n",
    "if i>0 :\n",
    "    a500 = i//500\n",
    "    r500 = i%500\n",
    "    if r500>0 :\n",
    "        a200 = r500//200\n",
    "        r200 = r500%200\n",
    "        if r200>0 :\n",
    "            a100 = r200//100\n",
    "            r100 = r200%100\n",
    "            if r100>0 :\n",
    "                a50 = r100//50\n",
    "                r50 = r100%50\n",
    "                if r50>0 :\n",
    "                    a10 = r50//10\n",
    "                    r10 = r50%10\n",
    "                    if r10>0 :\n",
    "                        a1 = r10//10\n",
    "                        r1 = r10%10\n",
    "                        print(i ,\"= 500: \", a500,\"+ 200: \",a200,\"+ 100: \",a100,\"+ 50: \",a50,\"+ 10: \",a10,\"+ 1: \",a1)\n",
    "                    else :    \n",
    "                        print(i ,\"= 500: \", a500,\"+ 200: \",a200,\"+ 100: \",a100,\"+ 50: \",a50,\"+ 10: \",a10)\n",
    "                else:\n",
    "                    print(i ,\"= 500: \", a500,\"+ 200: \",a200,\"+ 100: \",a100,\"+ 50: \",a50)\n",
    "            else:\n",
    "                print(i ,\"= 500: \", a500,\"+ 200: \",a200,\"+ 100: \",a100)\n",
    "        else:\n",
    "            print(i ,\"= 500: \", a500,\"+ 200: \",a200)\n",
    "    else:\n",
    "        print(i,\"= 500: \",a500)\n",
    "else :\n",
    "    print('Enter valid amount...')"
   ]
  }
 ],
 "metadata": {
  "kernelspec": {
   "display_name": "Python 3",
   "language": "python",
   "name": "python3"
  },
  "language_info": {
   "codemirror_mode": {
    "name": "ipython",
    "version": 3
   },
   "file_extension": ".py",
   "mimetype": "text/x-python",
   "name": "python",
   "nbconvert_exporter": "python",
   "pygments_lexer": "ipython3",
   "version": "3.8.5"
  }
 },
 "nbformat": 4,
 "nbformat_minor": 4
}
